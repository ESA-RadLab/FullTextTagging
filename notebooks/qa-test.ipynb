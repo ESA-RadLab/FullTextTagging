{
 "cells": [
  {
   "cell_type": "markdown",
   "id": "bcc50cf5-225f-4cf2-a0e8-e93ac64f1281",
   "metadata": {},
   "source": [
    "Trying to replicate: https://github.com/whitead/paper-qa\n",
    "\n",
    "# Question anwsering with LLM and off-shelf API \n",
    "It is also possible to directly connect to e.g. ChatGPT API and do the prompt design"
   ]
  },
  {
   "cell_type": "code",
   "execution_count": 1,
   "id": "e4632772-06c7-41c9-b31d-fff7f07bafb0",
   "metadata": {},
   "outputs": [],
   "source": [
    "import os\n",
    "from langchain.llms import LlamaCpp\n",
    "from langchain import PromptTemplate, LLMChain\n",
    "from langchain.callbacks.manager import CallbackManager\n",
    "from langchain.embeddings import LlamaCppEmbeddings\n",
    "from langchain.callbacks.streaming_stdout import StreamingStdOutCallbackHandler\n",
    "import sys"
   ]
  },
  {
   "cell_type": "code",
   "execution_count": 2,
   "id": "4436c96e-9c03-45a6-90ed-e82adac6f48e",
   "metadata": {},
   "outputs": [],
   "source": [
    "\n",
    "sys.path.append('../')\n",
    "import constants"
   ]
  },
  {
   "cell_type": "code",
   "execution_count": 3,
   "id": "f71042f5-8b79-4ee2-b789-d6790f60fabb",
   "metadata": {},
   "outputs": [
    {
     "name": "stdout",
     "output_type": "stream",
     "text": [
      "c:\\Users\\linda.hemmann\\Documents\\FullTextTagging\\notebooks\n"
     ]
    }
   ],
   "source": [
    "print(os.getcwd())\n",
    "os.environ[\"OPENAI_API_KEY\"]=constants.OPENAI_API_KEY"
   ]
  },
  {
   "cell_type": "code",
   "execution_count": 4,
   "id": "15e67d2e-cd02-4b2c-8e50-9b147c029e3c",
   "metadata": {},
   "outputs": [
    {
     "data": {
      "text/plain": [
       "['../data/demo_data//1-s2.0-S0090825815002577-main.pdf',\n",
       " '../data/demo_data//1-s2.0-S014341799790086X-main.pdf',\n",
       " '../data/demo_data//1-s2.0-S0167814004005663-main.pdf',\n",
       " '../data/demo_data//1-s2.0-S1525730414002630-main.pdf',\n",
       " '../data/demo_data//keys.csv',\n",
       " '../data/demo_data//paper0.pdf',\n",
       " '../data/demo_data//paper1.pdf',\n",
       " '../data/demo_data//paper2.pdf',\n",
       " '../data/demo_data//paper4.pdf',\n",
       " '../data/demo_data//PII_ S0196-9781(97)00323-9.pdf',\n",
       " '../data/demo_data//PII_ S1368-8375(98)00013-X.pdf']"
      ]
     },
     "execution_count": 4,
     "metadata": {},
     "output_type": "execute_result"
    }
   ],
   "source": [
    "dir_path = '../data/demo_data/'\n",
    "my_docs = [dir_path+'/'+doc for doc in os.listdir(dir_path)]\n",
    "my_docs"
   ]
  },
  {
   "cell_type": "code",
   "execution_count": 6,
   "id": "e262cfad",
   "metadata": {},
   "outputs": [],
   "source": [
    "import nest_asyncio\n",
    "nest_asyncio.apply()"
   ]
  },
  {
   "cell_type": "code",
   "execution_count": 7,
   "id": "ce7d661a",
   "metadata": {},
   "outputs": [
    {
     "name": "stdout",
     "output_type": "stream",
     "text": [
      "Question: Aanwser the following questions regarding the context with maximum of 3 words each: Is the paper literature review?, Is there evidence that the study does not include ionising radiation health/biological effects ?, Is the study focused on ONLY males or ONLY females ? Is the study about in-vitro or animals ? Are they healthy* animals ?\n",
      "\n",
      "No, No, No, In-vitro, Yes (Context: The context does not mention anything about the paper being a literature review. There is no evidence mentioned about the study not including ionising radiation health/biological effects. The context does not specify if the study is focused on only males or only females. The context mentions that the study is about in-vitro. The context mentions that the animals used in the study are healthy.)\n",
      "\n"
     ]
    }
   ],
   "source": [
    "from paperqa import Docs\n",
    "\n",
    "# get a list of paths\n",
    "docs = Docs(llm='gpt-3.5-turbo')\n",
    "#docs = Docs()\n",
    "#for d in my_docs:\n",
    "#    docs.add(d)\n",
    "docs.add(my_docs[0])\n",
    "\n",
    "answer = docs.query(\"Aanwser the following questions regarding the context with maximum of 3 words each: Is the paper literature review?, Is there evidence that the study does not include ionising radiation health/biological effects ?, Is the study focused on ONLY males or ONLY females ? Is the study about in-vitro or animals ? Are they healthy* animals ?\")\n",
    "print(answer.formatted_answer)\n",
    "\n"
   ]
  },
  {
   "cell_type": "code",
   "execution_count": null,
   "id": "3791992a",
   "metadata": {},
   "outputs": [],
   "source": []
  }
 ],
 "metadata": {
  "kernelspec": {
   "display_name": "Python 3 (ipykernel)",
   "language": "python",
   "name": "python3"
  },
  "language_info": {
   "codemirror_mode": {
    "name": "ipython",
    "version": 3
   },
   "file_extension": ".py",
   "mimetype": "text/x-python",
   "name": "python",
   "nbconvert_exporter": "python",
   "pygments_lexer": "ipython3",
   "version": "3.9.0"
  }
 },
 "nbformat": 4,
 "nbformat_minor": 5
}
