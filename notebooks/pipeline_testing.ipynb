{
 "cells": [
  {
   "cell_type": "code",
   "execution_count": 1,
   "id": "adf87919-922e-43bb-9711-48390ea712cb",
   "metadata": {},
   "outputs": [],
   "source": [
    "import sys\n",
    "import os\n",
    "\n",
    "# Add the directory to the search path\n",
    "sys.path.append('../code')"
   ]
  },
  {
   "cell_type": "code",
   "execution_count": 2,
   "id": "bcfacdf7-72eb-4840-9fb3-24b471fe02ab",
   "metadata": {},
   "outputs": [],
   "source": [
    "from pre_processing import extract_main_text\n",
    "from custom_types import Paper"
   ]
  },
  {
   "cell_type": "code",
   "execution_count": 3,
   "id": "b911aad0-bf5c-4814-96cc-cb404e734ef6",
   "metadata": {},
   "outputs": [
    {
     "name": "stdout",
     "output_type": "stream",
     "text": [
      "current directory: C:\\Users\\linda.hemmann\\Documents\\FullTextTagging\\notebooks\n",
      "demofiles:\n",
      "1-s2.0-S0090825815002577-main.pdf\n",
      "1-s2.0-S014341799790086X-main.pdf\n",
      "1-s2.0-S0167814004005663-main.pdf\n",
      "1-s2.0-S1525730414002630-main.pdf\n",
      "paper0.pdf\n",
      "paper1.pdf\n",
      "paper2.pdf\n",
      "paper4.pdf\n",
      "PII_ S0196-9781(97)00323-9.pdf\n",
      "PII_ S1368-8375(98)00013-X.pdf\n"
     ]
    }
   ],
   "source": [
    "print('current directory: ' + os.getcwd())\n",
    "data_path='../data/demo_data/'\n",
    "files = [f for f in os.listdir(data_path) if f.endswith('.pdf')]\n",
    "print('demofiles:')\n",
    "for file in files:\n",
    "    print(file)"
   ]
  },
  {
   "cell_type": "markdown",
   "id": "d9c359a6-a11e-4558-af2b-7f26f5926237",
   "metadata": {},
   "source": [
    "# Test creating a paper object and filling the data"
   ]
  },
  {
   "cell_type": "code",
   "execution_count": 4,
   "id": "883e410c-dc3a-4e72-bd3e-fbc62dc70a13",
   "metadata": {},
   "outputs": [],
   "source": [
    "pdf_path = data_path+files[1]\n",
    "paper = Paper(pdf_path = pdf_path)"
   ]
  },
  {
   "cell_type": "code",
   "execution_count": 12,
   "id": "b09bec2b-a7ef-4b87-8551-cdd5e81089b6",
   "metadata": {},
   "outputs": [],
   "source": [
    "#str(paper)"
   ]
  },
  {
   "cell_type": "code",
   "execution_count": null,
   "id": "d8d94faa-041e-4766-9187-25a7f1af661c",
   "metadata": {},
   "outputs": [],
   "source": []
  },
  {
   "cell_type": "code",
   "execution_count": 6,
   "id": "306e0af6-9a6f-449d-a93e-35399e3c2134",
   "metadata": {},
   "outputs": [],
   "source": [
    "main_text = extract_main_text(pdf_path)"
   ]
  },
  {
   "cell_type": "code",
   "execution_count": 10,
   "id": "8a0fcb32-122d-4f5a-91be-9491ee4e4464",
   "metadata": {},
   "outputs": [],
   "source": [
    "paper.add_text(text=main_text)"
   ]
  },
  {
   "cell_type": "code",
   "execution_count": null,
   "id": "4c7843bb-d76f-4d64-a520-7b2c670ce6cd",
   "metadata": {},
   "outputs": [],
   "source": []
  }
 ],
 "metadata": {
  "kernelspec": {
   "display_name": "Python 3 (ipykernel)",
   "language": "python",
   "name": "python3"
  },
  "language_info": {
   "codemirror_mode": {
    "name": "ipython",
    "version": 3
   },
   "file_extension": ".py",
   "mimetype": "text/x-python",
   "name": "python",
   "nbconvert_exporter": "python",
   "pygments_lexer": "ipython3",
   "version": "3.11.6"
  }
 },
 "nbformat": 4,
 "nbformat_minor": 5
}
