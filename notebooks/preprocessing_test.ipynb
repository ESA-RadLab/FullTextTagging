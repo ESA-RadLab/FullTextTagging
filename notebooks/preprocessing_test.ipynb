{
 "cells": [
  {
   "cell_type": "code",
   "execution_count": null,
   "id": "c1ffc769-9e52-4f2c-a3bf-fc0ca012be85",
   "metadata": {},
   "outputs": [],
   "source": [
    "# To read the PDF\n",
    "import PyPDF2\n",
    "# To analyze the PDF layout and extract text\n",
    "from pdfminer.high_level import extract_pages, extract_text\n",
    "from pdfminer.layout import LTTextContainer, LTChar, LTRect, LTFigure\n",
    "# To extract text from tables in PDF\n",
    "import pdfplumber\n",
    "#file management\n",
    "import os\n",
    "import sys\n",
    "import re"
   ]
  },
  {
   "cell_type": "markdown",
   "id": "404dd0f1-b536-4e74-9686-149826053a93",
   "metadata": {},
   "source": [
    "The code adapts to the post: https://towardsdatascience.com/extracting-text-from-pdf-files-with-python-a-comprehensive-guide-9fc4003d517"
   ]
  },
  {
   "cell_type": "code",
   "execution_count": null,
   "id": "729c6f15-57b3-46a1-9445-249a95e4018d",
   "metadata": {},
   "outputs": [],
   "source": []
  },
  {
   "cell_type": "code",
   "execution_count": null,
   "id": "0f58faf7-0692-4c11-8246-6288ce684244",
   "metadata": {},
   "outputs": [],
   "source": [
    "print('current directory: ' + os.getcwd())\n",
    "data_path='../data/demo_data/'\n",
    "files = [f for f in os.listdir(data_path) if f.endswith('.pdf')]\n",
    "print('demofiles:')\n",
    "for file in files:\n",
    "    print(file)"
   ]
  },
  {
   "cell_type": "markdown",
   "id": "208fa13f-8136-4189-937e-d1faca159b67",
   "metadata": {},
   "source": [
    "Text extraction"
   ]
  },
  {
   "cell_type": "code",
   "execution_count": null,
   "id": "dd9bb735-3964-43a4-9f68-ebf035ef3c43",
   "metadata": {},
   "outputs": [],
   "source": [
    "# Create a function to extract text\n",
    "\n",
    "def text_extraction(element):\n",
    "    # Extracting the text from the in-line text element\n",
    "    line_text = element.get_text()\n",
    "    \n",
    "    # Find the formats of the text\n",
    "    # Initialize the list with all the formats that appeared in the line of text\n",
    "    line_formats = []\n",
    "    for text_line in element:\n",
    "        if isinstance(text_line, LTTextContainer):\n",
    "            # Iterating through each character in the line of text\n",
    "            for character in text_line:\n",
    "                if isinstance(character, LTChar):\n",
    "                    # Append the font name of the character and the size\n",
    "                    line_formats.append((character.fontname,character.size))\n",
    "                    # Append the font size of the character\n",
    "                    #line_formats.append(character.size)\n",
    "    # Find the unique font sizes and names in the line\n",
    "    if len(line_formats)>0:\n",
    "        format_per_line = max(set(line_formats), key=line_formats.count) #list(set(line_formats))\n",
    "    else:\n",
    "        format_per_line=[]\n",
    "    \n",
    "    # Return a tuple with the text in each line along with its format\n",
    "    return (line_text, format_per_line)"
   ]
  },
  {
   "cell_type": "code",
   "execution_count": null,
   "id": "88786411-74c6-4ce4-b411-54c87fcdc6f2",
   "metadata": {},
   "outputs": [],
   "source": [
    "def remove_header_footer(pdf_extracted_text):\n",
    "        page_format_pattern = r'([page]+[\\d]+)'\n",
    "        #pdf_extracted_text = pdf_extracted_text.lower().split(\"\\n\")\n",
    "        header = pdf_extracted_text[0].strip().lower()\n",
    "        footer = pdf_extracted_text[-1].strip().lower()\n",
    "        if re.search(page_format_pattern, header) or header.isnumeric():\n",
    "            pdf_extracted_text = pdf_extracted_text[1:]\n",
    "        if re.search(page_format_pattern, footer) or footer.isnumeric():\n",
    "            pdf_extracted_text = pdf_extracted_text[:-1]\n",
    "        pdf_extracted_text = \"\\n\".join(pdf_extracted_text)\n",
    "        return pdf_extracted_text"
   ]
  },
  {
   "cell_type": "code",
   "execution_count": null,
   "id": "fc9f0023-8d84-4271-8546-306ca13a3874",
   "metadata": {},
   "outputs": [],
   "source": [
    "pdf_path = data_path+files[1]\n",
    "# create a PDF file object\n",
    "pdfFileObj = open(pdf_path, 'rb')\n",
    "# create a PDF reader object\n",
    "pdfReaded = PyPDF2.PdfReader(pdfFileObj)\n",
    "\n",
    "# Create the dictionary to extract text from each image\n",
    "text_per_page = {}"
   ]
  },
  {
   "cell_type": "code",
   "execution_count": null,
   "id": "fd68bb05-bf29-4d64-b60a-58c55fc545e5",
   "metadata": {},
   "outputs": [],
   "source": [
    "reader = PyPDF2.PdfReader(pdf_path)\n",
    "reader.metadata\n",
    "len(reader.pages)\n"
   ]
  },
  {
   "cell_type": "code",
   "execution_count": null,
   "id": "e54bad53-8351-4510-a2fb-e57cd7120bc0",
   "metadata": {},
   "outputs": [],
   "source": [
    "all_formats = []\n",
    "for pagenum, page in enumerate(extract_pages(pdf_path)):\n",
    "    # Initialize the variables needed for the text extraction from the page\n",
    "    pageObj = pdfReaded.pages[pagenum]\n",
    "    page_text = []\n",
    "    line_format = []\n",
    "    text_from_images = []\n",
    "    text_from_tables = []\n",
    "    page_content = []\n",
    "    # Initialize the number of the examined tables\n",
    "    table_num = 0\n",
    "    first_element= True\n",
    "    table_extraction_flag= False\n",
    "    # Open the pdf file\n",
    "    pdf = pdfplumber.open(pdf_path)\n",
    "    # Find the examined page\n",
    "    page_tables = pdf.pages[pagenum]\n",
    "    # Find the number of tables on the page\n",
    "    tables = page_tables.find_tables()\n",
    "\n",
    "\n",
    "    # Find all the elements\n",
    "    page_elements = [(element.y1, element) for element in page._objs]\n",
    "    # Sort all the elements as they appear in the page \n",
    "    page_elements.sort(key=lambda a: a[0], reverse=True)\n",
    "\n",
    "    # Find the elements that composed a page\n",
    "    for i,component in enumerate(page_elements):\n",
    "        # Extract the position of the top side of the element in the PDF\n",
    "        pos= component[0]\n",
    "        # Extract the element of the page layout\n",
    "        element = component[1]\n",
    "        \n",
    "        # Check if the element is a text element\n",
    "        if isinstance(element, LTTextContainer):\n",
    "            # Check if the text appeared in a table\n",
    "            if table_extraction_flag == False:\n",
    "                # Use the function to extract the text and format for each text element\n",
    "                (line_text, format_per_line) = text_extraction(element)\n",
    "                # Append the text of each line to the page text\n",
    "                page_text.append(line_text)\n",
    "                # Append the format for each line containing text\n",
    "                line_format.append(format_per_line)\n",
    "                page_content.append(line_text)\n",
    "            else:\n",
    "                # Omit the text that appeared in a table\n",
    "                pass\n",
    "    #exclude headers and page numbers\n",
    "    page_content = remove_header_footer(page_content)\n",
    "    # Create the key of the dictionary\n",
    "    dctkey = 'Page_'+str(pagenum)\n",
    "    all_formats.append(line_format)\n",
    "    # Add the list of list as the value of the page key\n",
    "    text_per_page[dctkey]= [page_text, line_format, text_from_images,text_from_tables, page_content]\n",
    "\n",
    "# Closing the pdf file object\n",
    "pdfFileObj.close()\n",
    "\n",
    "# Deleting the additional files created\n",
    "#os.remove('cropped_image.pdf')\n",
    "#os.remove('PDF_image.png')\n",
    "\n",
    "# Display the content of the page\n",
    "result = ''.join(text_per_page['Page_0'][4])\n",
    "print(result)\n"
   ]
  },
  {
   "cell_type": "markdown",
   "id": "5e6b0763-e0e0-4565-a776-072d24cf3b73",
   "metadata": {},
   "source": [
    "Find the most common font"
   ]
  },
  {
   "cell_type": "code",
   "execution_count": null,
   "id": "9850e3fb-20d7-4c77-901a-9133c32dc058",
   "metadata": {},
   "outputs": [],
   "source": [
    "flat_list = [item for sublist in all_formats for item in sublist]\n",
    "most_common_format = max(flat_list, key=flat_list.count)\n",
    "print(most_common_format)"
   ]
  },
  {
   "cell_type": "code",
   "execution_count": null,
   "id": "ce8c3a99-5e6d-4db8-9597-bac8855be0fc",
   "metadata": {},
   "outputs": [],
   "source": []
  }
 ],
 "metadata": {
  "kernelspec": {
   "display_name": "Python 3 (ipykernel)",
   "language": "python",
   "name": "python3"
  },
  "language_info": {
   "codemirror_mode": {
    "name": "ipython",
    "version": 3
   },
   "file_extension": ".py",
   "mimetype": "text/x-python",
   "name": "python",
   "nbconvert_exporter": "python",
   "pygments_lexer": "ipython3",
   "version": "3.11.6"
  }
 },
 "nbformat": 4,
 "nbformat_minor": 5
}
