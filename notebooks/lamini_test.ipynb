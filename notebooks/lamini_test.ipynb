{
 "cells": [
  {
   "cell_type": "markdown",
   "id": "6c241e47-bd82-448c-9d39-72d2f2f76f48",
   "metadata": {},
   "source": [
    "# Testing lamini classifier\n",
    "from : https://github.com/lamini-ai/llm-classifier/tree/main"
   ]
  },
  {
   "cell_type": "code",
   "execution_count": 21,
   "id": "9853465b-ecf2-493a-970d-f2be49ca9309",
   "metadata": {},
   "outputs": [],
   "source": [
    "#!pip install lamini\n",
    "#!pip install google\n",
    "#!pip install --upgrade google-api-python-client\n",
    "#!pip install --use-pep517 google-colab"
   ]
  },
  {
   "cell_type": "code",
   "execution_count": null,
   "id": "2c89ef81-cf61-4ff0-a536-43f6008e3f27",
   "metadata": {},
   "outputs": [],
   "source": [
    "from lamini import LaminiClassifier"
   ]
  },
  {
   "cell_type": "markdown",
   "id": "0682edca-56bd-468a-93bc-326f61ab7119",
   "metadata": {},
   "source": [
    "## Authentication"
   ]
  },
  {
   "cell_type": "code",
   "execution_count": 14,
   "id": "4e28c550-612f-4685-a49e-5ea76bec0a6d",
   "metadata": {},
   "outputs": [
    {
     "name": "stdout",
     "output_type": "stream",
     "text": [
      "C:\\Users\\linda.hemmann\\Documents\\FullTextTagging\\notebooks\n"
     ]
    }
   ],
   "source": [
    "print(os.getcwd())"
   ]
  },
  {
   "cell_type": "code",
   "execution_count": 23,
   "id": "4df89d24-360a-43f7-b379-863a1109aa5c",
   "metadata": {},
   "outputs": [
    {
     "name": "stdout",
     "output_type": "stream",
     "text": [
      "C:\\Users\\linda.hemmann\\Anaconda3\\envs\\pytorch-env-cpu\n"
     ]
    }
   ],
   "source": [
    "print(os.environ[\"CONDA_PREFIX\"])"
   ]
  },
  {
   "cell_type": "code",
   "execution_count": 30,
   "id": "62d94459-9019-472b-b009-6797a513e6af",
   "metadata": {},
   "outputs": [],
   "source": [
    "from llama import LLMEngine\n",
    "\n",
    "llm = LLMEngine(\n",
    "    id=\"marketing\",\n",
    "    model_name=\"meta-llama/Llama-2-7b-chat-hf\",\n",
    "    config={\n",
    "        \"production\": {\n",
    "            \"key\": 'ebe2d97fe8754f6780f6a17ba2dc7b93',\n",
    "        }\n",
    "    },\n",
    ")"
   ]
  },
  {
   "cell_type": "code",
   "execution_count": 27,
   "id": "8d54afad-2958-4d5d-800a-01cee642f8c2",
   "metadata": {},
   "outputs": [],
   "source": [
    "import os\n",
    "import yaml\n",
    "key='ebe2d97fe8754f6780f6a17ba2dc7b93'\n",
    "config = {\n",
    "    \"production\": {\n",
    "        \"key\": key,\n",
    "        \"url\": \"https://api.powerml.co\"\n",
    "    }\n",
    "}\n",
    "\n",
    "keys_dir_path = os.environ[\"CONDA_PREFIX\"] +'\\.powerml'\n",
    "os.makedirs(keys_dir_path, exist_ok=True)\n",
    "\n",
    "keys_file_path = keys_dir_path + '\\configure_llama.yaml'\n",
    "with open(keys_file_path, 'w') as f:\n",
    "  yaml.dump(config, f, default_flow_style=False)"
   ]
  },
  {
   "cell_type": "markdown",
   "id": "1d5b4e77-3d29-46f6-9cd3-5393885aacec",
   "metadata": {},
   "source": [
    "## Train"
   ]
  },
  {
   "cell_type": "code",
   "execution_count": 31,
   "id": "50f9494a-e26e-47ef-9615-0924bfce325b",
   "metadata": {},
   "outputs": [],
   "source": [
    "\n",
    "# Create a new classifier\n",
    "classifier = LaminiClassifier()"
   ]
  },
  {
   "cell_type": "code",
   "execution_count": 32,
   "id": "41baf2e5-73b3-440a-afa7-3ac41cab1a48",
   "metadata": {},
   "outputs": [
    {
     "name": "stderr",
     "output_type": "stream",
     "text": [
      " 90%|█████████████████████████████████████████████████████████████████████████████████████████████████████████████████▍            | 9/10 [01:41<00:11, 11.28s/it]\n",
      " 90%|█████████████████████████████████████████████████████████████████████████████████████████████████████████████████▍            | 9/10 [01:42<00:11, 11.39s/it]\n",
      " 90%|█████████████████████████████████████████████████████████████████████████████████████████████████████████████████▍            | 9/10 [01:39<00:11, 11.04s/it]\n",
      "100%|███████████████████████████████████████████████████████████████████████████████████████████████████████████████████████████████| 3/3 [00:10<00:00,  3.37s/it]\n"
     ]
    }
   ],
   "source": [
    "classes = {\n",
    "    \"human study\" : \"We consider studies where the subject is a human as a human study For example: when a human being is exposed to ionising radiation and their blood samples are checked on biomarkers of exposure, then we considered it as a human study.\",\n",
    "    \"animal study\" : \"Animal studies are such that the subject is some animal\",\n",
    "    \"In vitro study\": \"We consider an in vitro study when an intervention (exposure to ionising radiation) is delivered to living cells, tissues, organs (etc.) outside a human or an animal body. For example, when a blood sample is taken from unexposed human and the blood cells outside the body are exposed to ionising radiation and checked on biomarkers of exposure, we considered it as an in vitro study.\"\n",
    "}\n",
    "\n",
    "classifier.prompt_train(classes)"
   ]
  },
  {
   "cell_type": "code",
   "execution_count": 33,
   "id": "8ed03cb0-151e-495e-9d02-c9f6cee5c00e",
   "metadata": {},
   "outputs": [],
   "source": [
    "model_path = '../models/lamini'\n",
    "classifier.save(model_path)"
   ]
  },
  {
   "cell_type": "markdown",
   "id": "664e4c22-3400-4e14-94c5-4f49c5f3cfb8",
   "metadata": {},
   "source": [
    "## Test"
   ]
  },
  {
   "cell_type": "code",
   "execution_count": 34,
   "id": "6ccd5230-a8e7-4fa8-885b-86ca4606c97f",
   "metadata": {},
   "outputs": [],
   "source": [
    "# Get the probabilities for each class\n",
    "list_of_strings = ['Bombesin (BN) and its mammalian  counterpart gastrin-releasing peptide act as neuroregulatory  hormones and tissue-specific growth factors, and have been implicated as peripheral and central  satiety-inducing agents.  In the present study, the immunohistochemical  expression of BN in submandibular, sublingual and parotid glands of rats was examined 10 days after 5 consecutive days with daily doses of 6-8 Gy irradiation. Radioimmunoassay (RIA)  methods were also  used.  Immunoreactive  granular  structures were observed within duct cells of both  controls  and  irradiated animals.  In  the  parenchyma  of  irradiated  animals,  very  few  nerve  fibres  showing  BN-like  immunoreactivity  were observed. The  RIA analysis showed that the content of BN-like  material  significantly increased in submandibular  and parotid glands  in response to irradiation. The  results suggest that mainly a non-neural  form  of BN is detected  in the salivary glands  in the immunohistochemical  analysis. Thus, the immunohistochemical  observations suggest that BN- like peptides may be present in the duct system, where they may be constituents of the saliva. The observations of an increase in BN content in response to irradiation are of interest as BN has mitogenic effects,  may stimulate secretion and contributes to satiety. ']\n",
    "probabilities = classifier.predict_proba(list_of_strings)"
   ]
  },
  {
   "cell_type": "code",
   "execution_count": 35,
   "id": "61435c1b-5b28-44c9-aee9-3200b967f348",
   "metadata": {},
   "outputs": [
    {
     "data": {
      "text/plain": [
       "array([[0.35749022, 0.20605594, 0.43645383]])"
      ]
     },
     "execution_count": 35,
     "metadata": {},
     "output_type": "execute_result"
    }
   ],
   "source": [
    "probabilities"
   ]
  },
  {
   "cell_type": "code",
   "execution_count": 36,
   "id": "0e5b82fb-fbdf-48ab-b3b1-bed898980317",
   "metadata": {},
   "outputs": [],
   "source": [
    "prediction = classifier.predict(list_of_strings)"
   ]
  },
  {
   "cell_type": "code",
   "execution_count": 37,
   "id": "514f81d4-d2ab-414a-ae2d-6fbc22a19cbf",
   "metadata": {},
   "outputs": [
    {
     "data": {
      "text/plain": [
       "['In vitro']"
      ]
     },
     "execution_count": 37,
     "metadata": {},
     "output_type": "execute_result"
    }
   ],
   "source": [
    "prediction"
   ]
  }
 ],
 "metadata": {
  "kernelspec": {
   "display_name": "Python 3 (ipykernel)",
   "language": "python",
   "name": "python3"
  },
  "language_info": {
   "codemirror_mode": {
    "name": "ipython",
    "version": 3
   },
   "file_extension": ".py",
   "mimetype": "text/x-python",
   "name": "python",
   "nbconvert_exporter": "python",
   "pygments_lexer": "ipython3",
   "version": "3.11.6"
  }
 },
 "nbformat": 4,
 "nbformat_minor": 5
}
